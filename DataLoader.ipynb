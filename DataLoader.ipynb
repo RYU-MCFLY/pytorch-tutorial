{
 "cells": [
  {
   "cell_type": "markdown",
   "metadata": {},
   "source": [
    "## Build a Customer DataLoader "
   ]
  },
  {
   "cell_type": "code",
   "execution_count": 1,
   "metadata": {},
   "outputs": [],
   "source": [
    "import torch\n",
    "import torch.nn as nn\n",
    "import torch.nn.functional as F\n",
    "import torch.optim as optim\n",
    "import numpy as np"
   ]
  },
  {
   "cell_type": "code",
   "execution_count": 2,
   "metadata": {},
   "outputs": [],
   "source": [
    "from torch.utils.data import Dataset # Dataset import\n",
    "from torch.utils.data import DataLoader"
   ]
  },
  {
   "cell_type": "markdown",
   "metadata": {},
   "source": [
    "- Dataset을 상속하여 CustomDataset class를 만든 후, DataLoader 만들어 준다\n",
    "    - len과 getitem 두 함수 구현 필요\n",
    "        - \\_\\_len__ : 데이터 총 개수\n",
    "        - \\_\\_getitem__(index) : index를 하나 받아 그에 상응하는 x, y를 tensor로 return"
   ]
  },
  {
   "cell_type": "code",
   "execution_count": 3,
   "metadata": {},
   "outputs": [],
   "source": [
    "class CustomDataset(Dataset):\n",
    "    def __init__(self):\n",
    "        self.x_train = [[73, 80, 75],\n",
    "                         [93, 88, 93],\n",
    "                         [89, 91, 90],\n",
    "                         [96, 98, 100],\n",
    "                         [73, 66, 70]]\n",
    "        self.y_train = [[152], [185], [180], [196], [142]]\n",
    "    \n",
    "    def __len__(self):\n",
    "        return len(self.x_train)\n",
    "    \n",
    "    def __getitem__(self, idx):\n",
    "        x = torch.FloatTensor(self.x_train[idx])\n",
    "        y = torch.FloatTensor(self.y_train[idx])\n",
    "        return x,y"
   ]
  },
  {
   "cell_type": "code",
   "execution_count": 4,
   "metadata": {},
   "outputs": [],
   "source": [
    "dataset = CustomDataset()"
   ]
  },
  {
   "cell_type": "code",
   "execution_count": 5,
   "metadata": {},
   "outputs": [],
   "source": [
    "dataloader = DataLoader(dataset, batch_size=2, shuffle=True)"
   ]
  },
  {
   "cell_type": "code",
   "execution_count": 6,
   "metadata": {},
   "outputs": [
    {
     "name": "stdout",
     "output_type": "stream",
     "text": [
      "idx: 0\n",
      "x: torch.Size([2, 3])\n",
      "y:  torch.Size([2, 1])\n",
      "idx: 1\n",
      "x: torch.Size([2, 3])\n",
      "y:  torch.Size([2, 1])\n",
      "idx: 2\n",
      "x: torch.Size([1, 3])\n",
      "y:  torch.Size([1, 1])\n"
     ]
    }
   ],
   "source": [
    "for batch_idx, samples in enumerate(dataloader):\n",
    "    print('idx:', batch_idx)\n",
    "    x_batch, y_batch = samples\n",
    "    print('x:', x_batch.shape)\n",
    "    print('y: ', y_batch.shape)"
   ]
  },
  {
   "cell_type": "code",
   "execution_count": 7,
   "metadata": {},
   "outputs": [
    {
     "name": "stdout",
     "output_type": "stream",
     "text": [
      "x: torch.Size([2, 3])\n",
      "y:  torch.Size([2, 1])\n",
      "x: torch.Size([2, 3])\n",
      "y:  torch.Size([2, 1])\n",
      "x: torch.Size([1, 3])\n",
      "y:  torch.Size([1, 1])\n"
     ]
    }
   ],
   "source": [
    "for x_batch, y_batch in dataloader:\n",
    "    print('x:', x_batch.shape)\n",
    "    print('y: ', y_batch.shape)"
   ]
  },
  {
   "cell_type": "markdown",
   "metadata": {},
   "source": [
    "### Linear regression with nn.Module"
   ]
  },
  {
   "cell_type": "code",
   "execution_count": 8,
   "metadata": {},
   "outputs": [],
   "source": [
    "class LinearRegression(nn.Module):\n",
    "    def __init__(self):\n",
    "        super().__init__()\n",
    "        self.linear = nn.Linear(3,1,bias=True)\n",
    "    \n",
    "    def forward(self, x):\n",
    "        return self.linear(x)"
   ]
  },
  {
   "cell_type": "code",
   "execution_count": 17,
   "metadata": {},
   "outputs": [],
   "source": [
    "model = LinearRegression()"
   ]
  },
  {
   "cell_type": "code",
   "execution_count": 18,
   "metadata": {},
   "outputs": [],
   "source": [
    "optimizer = optim.SGD(model.parameters(), lr=0.000005)"
   ]
  },
  {
   "cell_type": "code",
   "execution_count": 19,
   "metadata": {},
   "outputs": [
    {
     "name": "stdout",
     "output_type": "stream",
     "text": [
      "epoch: 0 batch index: 0 cost: 24049.791015625\n",
      "epoch: 0 batch index: 1 cost: 11928.8564453125\n",
      "epoch: 0 batch index: 2 cost: 9485.26953125\n",
      "epoch: 10 batch index: 0 cost: 1.9574240446090698\n",
      "epoch: 10 batch index: 1 cost: 0.09021720290184021\n",
      "epoch: 10 batch index: 2 cost: 0.035379763692617416\n",
      "epoch: 20 batch index: 0 cost: 0.03714732080698013\n",
      "epoch: 20 batch index: 1 cost: 1.5892239809036255\n",
      "epoch: 20 batch index: 2 cost: 0.7912300229072571\n",
      "epoch: 30 batch index: 0 cost: 0.3030174672603607\n",
      "epoch: 30 batch index: 1 cost: 1.662213921546936\n",
      "epoch: 30 batch index: 2 cost: 0.10336397588253021\n",
      "epoch: 40 batch index: 0 cost: 0.03476998209953308\n",
      "epoch: 40 batch index: 1 cost: 1.8344029188156128\n",
      "epoch: 40 batch index: 2 cost: 0.1748509705066681\n"
     ]
    }
   ],
   "source": [
    "for epoch in range(50):\n",
    "    for batch_idx, samples in enumerate(dataloader):\n",
    "        x_batch, y_batch = samples\n",
    "        pred = model(x_batch)\n",
    "        cost = F.mse_loss(pred, y_batch)\n",
    "\n",
    "        optimizer.zero_grad()\n",
    "        cost.backward()\n",
    "        optimizer.step()\n",
    "        if epoch%10==0:\n",
    "            print('epoch:', epoch, 'batch index:', batch_idx, 'cost:', cost.item())"
   ]
  },
  {
   "cell_type": "code",
   "execution_count": null,
   "metadata": {},
   "outputs": [],
   "source": []
  }
 ],
 "metadata": {
  "kernelspec": {
   "display_name": "Python [conda env:.conda-torch] *",
   "language": "python",
   "name": "conda-env-.conda-torch-py"
  },
  "language_info": {
   "codemirror_mode": {
    "name": "ipython",
    "version": 3
   },
   "file_extension": ".py",
   "mimetype": "text/x-python",
   "name": "python",
   "nbconvert_exporter": "python",
   "pygments_lexer": "ipython3",
   "version": "3.6.8"
  }
 },
 "nbformat": 4,
 "nbformat_minor": 2
}
