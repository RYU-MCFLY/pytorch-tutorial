{
 "cells": [
  {
   "cell_type": "markdown",
   "metadata": {},
   "source": [
    "## Stock price prediction with RNN"
   ]
  },
  {
   "cell_type": "code",
   "execution_count": 1,
   "metadata": {},
   "outputs": [],
   "source": [
    "import torch\n",
    "import torch.nn as nn\n",
    "import torch.nn.functional as F\n",
    "import torch.optim as optim\n",
    "import numpy as np\n",
    "import matplotlib.pyplot as plt"
   ]
  },
  {
   "cell_type": "code",
   "execution_count": 2,
   "metadata": {},
   "outputs": [],
   "source": [
    "device = torch.device(\"cuda:0\")"
   ]
  },
  {
   "cell_type": "code",
   "execution_count": 3,
   "metadata": {},
   "outputs": [],
   "source": [
    "seq_length = 7\n",
    "data_dim = 5\n",
    "hidden_dim = 16\n",
    "output_dim = 1\n",
    "learning_rate = 0.01"
   ]
  },
  {
   "cell_type": "code",
   "execution_count": 4,
   "metadata": {},
   "outputs": [],
   "source": [
    "data = np.loadtxt(\"./data-02-stock_daily.csv\", delimiter=\",\") #원본데이터 최신 데이터가 먼저 있음\n",
    "data = data[::-1]  # reverse order, 과거부터"
   ]
  },
  {
   "cell_type": "markdown",
   "metadata": {},
   "source": [
    "- data.shape [732, 5]\n",
    "- 시가, 최고가, 최저가, 거래량, 종가"
   ]
  },
  {
   "cell_type": "code",
   "execution_count": 5,
   "metadata": {},
   "outputs": [
    {
     "data": {
      "text/plain": [
       "array([  568.00257 ,   568.00257 ,   552.922516, 13100.      ,\n",
       "         558.462551])"
      ]
     },
     "execution_count": 5,
     "metadata": {},
     "output_type": "execute_result"
    }
   ],
   "source": [
    "data[0,:] "
   ]
  },
  {
   "cell_type": "code",
   "execution_count": 6,
   "metadata": {},
   "outputs": [
    {
     "data": {
      "text/plain": [
       "(732, 5)"
      ]
     },
     "execution_count": 6,
     "metadata": {},
     "output_type": "execute_result"
    }
   ],
   "source": [
    "data.shape"
   ]
  },
  {
   "cell_type": "code",
   "execution_count": 7,
   "metadata": {},
   "outputs": [],
   "source": [
    "train_size = int(len(data)*0.7) #training set: 512개"
   ]
  },
  {
   "cell_type": "code",
   "execution_count": 8,
   "metadata": {},
   "outputs": [],
   "source": [
    "train_set = data[:train_size]\n",
    "test_set = data[train_size-seq_length:]"
   ]
  },
  {
   "cell_type": "code",
   "execution_count": 9,
   "metadata": {},
   "outputs": [],
   "source": [
    "def minmax_scaling(data):#0~1로 normalize \n",
    "    numerator = data - np.min(data, axis=0)\n",
    "    denominator = np.max(data, axis=0) - np.min(data, axis=0)\n",
    "    return numerator/(denominator+1e-7)"
   ]
  },
  {
   "cell_type": "code",
   "execution_count": 10,
   "metadata": {},
   "outputs": [],
   "source": [
    "train_set = minmax_scaling(train_set)\n",
    "test_set = minmax_scaling(test_set)"
   ]
  },
  {
   "cell_type": "code",
   "execution_count": 11,
   "metadata": {},
   "outputs": [],
   "source": [
    "def build_dataset(data, seq_length):\n",
    "    dataX=[]\n",
    "    dataY=[]\n",
    "    \n",
    "    for idx in range(len(data)-seq_length):\n",
    "        dataX.append(data[idx:idx+seq_length, :])\n",
    "        dataY.append(data[idx+seq_length, -1]) # 그 다음날 종가 맞추기\n",
    "    return torch.FloatTensor(dataX), torch.FloatTensor(dataY)"
   ]
  },
  {
   "cell_type": "code",
   "execution_count": 12,
   "metadata": {},
   "outputs": [],
   "source": [
    "trainX, trainY = build_dataset(train_set, seq_length)\n",
    "testX, testY = build_dataset(test_set, seq_length)"
   ]
  },
  {
   "cell_type": "code",
   "execution_count": 13,
   "metadata": {},
   "outputs": [
    {
     "name": "stdout",
     "output_type": "stream",
     "text": [
      "torch.Size([505, 7, 5])\n",
      "torch.Size([505])\n"
     ]
    }
   ],
   "source": [
    "print(trainX.shape)\n",
    "print(trainY.shape)"
   ]
  },
  {
   "cell_type": "code",
   "execution_count": 14,
   "metadata": {},
   "outputs": [],
   "source": [
    "class Stock_RNN(nn.Module):\n",
    "    def __init__(self, input_dim, hidden_dim, output_dim, num_layers):\n",
    "        super(Stock_RNN, self).__init__()\n",
    "        self.rnn = nn.LSTM(input_dim, hidden_dim, num_layers=num_layers, batch_first=True)\n",
    "        self.fc = nn.Linear(hidden_dim, output_dim, bias=True)\n",
    "        \n",
    "    def forward(self, x):\n",
    "        outputs, (hidden_state, cell_state) = self.rnn(x)\n",
    "        pred = self.fc(hidden_state)\n",
    "        return torch.squeeze(pred)"
   ]
  },
  {
   "cell_type": "markdown",
   "metadata": {},
   "source": [
    "- **output** of shape (seq_len, batch, num_directions * hidden_size): tensor containing the output features $h_t$ from the last layer of the LSTM, for each t\n",
    "- **state** (hidden_state, cell_state) *at the last time step*."
   ]
  },
  {
   "cell_type": "code",
   "execution_count": 15,
   "metadata": {},
   "outputs": [],
   "source": [
    "model = Stock_RNN(data_dim, hidden_dim, output_dim, 1)"
   ]
  },
  {
   "cell_type": "code",
   "execution_count": 16,
   "metadata": {},
   "outputs": [],
   "source": [
    "outputs, (hidden_state, cell_state) = model.rnn(trainX[:1,:,:])"
   ]
  },
  {
   "cell_type": "code",
   "execution_count": 17,
   "metadata": {},
   "outputs": [
    {
     "name": "stdout",
     "output_type": "stream",
     "text": [
      "torch.Size([1, 7, 16])\n",
      "torch.Size([1, 1, 16])\n",
      "torch.Size([1, 1, 16])\n"
     ]
    }
   ],
   "source": [
    "print(outputs.shape)\n",
    "print(hidden_state.shape)\n",
    "print(cell_state.shape)"
   ]
  },
  {
   "cell_type": "code",
   "execution_count": 18,
   "metadata": {},
   "outputs": [],
   "source": [
    "criterion = nn.MSELoss()\n",
    "optimizer = optim.Adam(model.parameters(), lr=learning_rate)"
   ]
  },
  {
   "cell_type": "code",
   "execution_count": 19,
   "metadata": {},
   "outputs": [
    {
     "name": "stdout",
     "output_type": "stream",
     "text": [
      "0 0.27589312195777893\n",
      "20 0.0040781497955322266\n",
      "40 0.0024895749520510435\n",
      "60 0.002284025074914098\n",
      "80 0.0022094715386629105\n",
      "100 0.002139252843335271\n",
      "120 0.002088162349537015\n",
      "140 0.0020372429862618446\n",
      "160 0.0019869746174663305\n",
      "180 0.0019376147538423538\n",
      "200 0.001889434177428484\n",
      "220 0.0018426195019856095\n",
      "240 0.0017972872592508793\n",
      "260 0.0017535192891955376\n",
      "280 0.0017114143120124936\n",
      "300 0.0016711440403014421\n",
      "320 0.0016329716891050339\n",
      "340 0.0015971949324011803\n",
      "360 0.0015640048077329993\n",
      "380 0.0015333662740886211\n",
      "400 0.001505067222751677\n",
      "420 0.001478862133808434\n",
      "440 0.0014545101439580321\n",
      "460 0.0014317481545731425\n",
      "480 0.0014103041030466557\n"
     ]
    }
   ],
   "source": [
    "for step in range(500):\n",
    "    pred = model(trainX)\n",
    "    loss = criterion(pred, trainY)\n",
    "    \n",
    "    optimizer.zero_grad()\n",
    "    loss.backward()\n",
    "    optimizer.step()\n",
    "    if step%20==0:\n",
    "        print(step, loss.item())"
   ]
  },
  {
   "cell_type": "code",
   "execution_count": 20,
   "metadata": {},
   "outputs": [
    {
     "data": {
      "image/png": "[encoded data removed]",
      "text/plain": [
       "<Figure size 432x288 with 1 Axes>"
      ]
     },
     "metadata": {
      "needs_background": "light"
     },
     "output_type": "display_data"
    }
   ],
   "source": [
    "plt.plot(testY.data.numpy())\n",
    "plt.plot(model(testX).data.numpy())\n",
    "plt.legend(['original', 'prediction'])\n",
    "plt.show()"
   ]
  },
  {
   "cell_type": "code",
   "execution_count": null,
   "metadata": {},
   "outputs": [],
   "source": []
  }
 ],
 "metadata": {
  "kernelspec": {
   "display_name": "Python [conda env:.conda-torch] *",
   "language": "python",
   "name": "conda-env-.conda-torch-py"
  },
  "language_info": {
   "codemirror_mode": {
    "name": "ipython",
    "version": 3
   },
   "file_extension": ".py",
   "mimetype": "text/x-python",
   "name": "python",
   "nbconvert_exporter": "python",
   "pygments_lexer": "ipython3",
   "version": "3.6.8"
  }
 },
 "nbformat": 4,
 "nbformat_minor": 2
}
