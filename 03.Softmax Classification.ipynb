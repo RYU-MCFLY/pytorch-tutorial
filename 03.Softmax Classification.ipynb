{
 "cells": [
  {
   "cell_type": "markdown",
   "metadata": {},
   "source": [
    "## Softmax Classification"
   ]
  },
  {
   "cell_type": "code",
   "execution_count": 1,
   "metadata": {},
   "outputs": [],
   "source": [
    "import torch\n",
    "import torch.nn as nn\n",
    "import torch.nn.functional as F\n",
    "import torch.optim as optim"
   ]
  },
  {
   "cell_type": "markdown",
   "metadata": {},
   "source": [
    "$$P(class=i) = \\frac{e^i}{\\sum e^i}$$"
   ]
  },
  {
   "cell_type": "code",
   "execution_count": 2,
   "metadata": {},
   "outputs": [],
   "source": [
    "z = torch.FloatTensor([1,2,3])"
   ]
  },
  {
   "cell_type": "markdown",
   "metadata": {},
   "source": [
    "- max(z) = [0,0,1]\n",
    "- softmax(z): soft version of the arg max"
   ]
  },
  {
   "cell_type": "code",
   "execution_count": 3,
   "metadata": {},
   "outputs": [
    {
     "data": {
      "text/plain": [
       "tensor([0.0900, 0.2447, 0.6652])"
      ]
     },
     "execution_count": 3,
     "metadata": {},
     "output_type": "execute_result"
    }
   ],
   "source": [
    "F.softmax(z, dim=0) "
   ]
  },
  {
   "cell_type": "markdown",
   "metadata": {},
   "source": [
    "### Cross-entropy loss"
   ]
  },
  {
   "cell_type": "markdown",
   "metadata": {},
   "source": [
    " $$ L = \\frac{1}{N}\\sum -y \\log(\\hat{y})$$\n",
    " where $\\hat{y}$ is the predicted probability and $y$ is the true label (0 or 1)"
   ]
  },
  {
   "cell_type": "code",
   "execution_count": 4,
   "metadata": {},
   "outputs": [
    {
     "name": "stdout",
     "output_type": "stream",
     "text": [
      "tensor([[0.1836, 0.6275, 0.8017, 0.8295, 0.0911],\n",
      "        [0.3492, 0.1369, 0.0062, 0.1066, 0.6846],\n",
      "        [0.7011, 0.0085, 0.4691, 0.2907, 0.5425]], requires_grad=True)\n"
     ]
    }
   ],
   "source": [
    "logit = torch.rand(3, 5, requires_grad=True)\n",
    "print(logit)"
   ]
  },
  {
   "cell_type": "code",
   "execution_count": 5,
   "metadata": {},
   "outputs": [
    {
     "name": "stdout",
     "output_type": "stream",
     "text": [
      "tensor([[0.1382, 0.2155, 0.2565, 0.2637, 0.1260],\n",
      "        [0.2127, 0.1720, 0.1509, 0.1669, 0.2975],\n",
      "        [0.2625, 0.1313, 0.2081, 0.1741, 0.2240]], grad_fn=<SoftmaxBackward>)\n"
     ]
    }
   ],
   "source": [
    "pred = F.softmax(logit, dim=1)\n",
    "print(pred)"
   ]
  },
  {
   "cell_type": "code",
   "execution_count": 6,
   "metadata": {},
   "outputs": [
    {
     "name": "stdout",
     "output_type": "stream",
     "text": [
      "tensor([[0., 0., 1., 0., 0.],\n",
      "        [1., 0., 0., 0., 0.],\n",
      "        [0., 0., 0., 0., 1.]])\n"
     ]
    }
   ],
   "source": [
    "one_hot_label = [[0,0,1,0,0], [1,0,0,0,0], [0,0,0,0,1]]\n",
    "one_hot_label = torch.FloatTensor(one_hot_label)\n",
    "print(one_hot_label)"
   ]
  },
  {
   "cell_type": "code",
   "execution_count": 7,
   "metadata": {},
   "outputs": [
    {
     "name": "stdout",
     "output_type": "stream",
     "text": [
      "tensor([[0.0000, 0.0000, 1.3606, 0.0000, 0.0000],\n",
      "        [1.5479, 0.0000, 0.0000, 0.0000, 0.0000],\n",
      "        [0.0000, 0.0000, 0.0000, 0.0000, 1.4962]], grad_fn=<MulBackward0>)\n"
     ]
    }
   ],
   "source": [
    "loss = -one_hot_label*torch.log(pred)\n",
    "print(loss)"
   ]
  },
  {
   "cell_type": "code",
   "execution_count": 8,
   "metadata": {},
   "outputs": [
    {
     "data": {
      "text/plain": [
       "tensor(1.4682, grad_fn=<MeanBackward0>)"
      ]
     },
     "execution_count": 8,
     "metadata": {},
     "output_type": "execute_result"
    }
   ],
   "source": [
    "torch.sum(loss, dim=1).mean()"
   ]
  },
  {
   "cell_type": "code",
   "execution_count": 9,
   "metadata": {},
   "outputs": [
    {
     "data": {
      "text/plain": [
       "tensor(1.4682, grad_fn=<NllLossBackward>)"
      ]
     },
     "execution_count": 9,
     "metadata": {},
     "output_type": "execute_result"
    }
   ],
   "source": [
    "F.cross_entropy(logit, torch.LongTensor([2,0,4]))  # F.cross_entropy는 one-hot 말고 원래 label을 input으로"
   ]
  },
  {
   "cell_type": "markdown",
   "metadata": {},
   "source": [
    "### Basic training"
   ]
  },
  {
   "cell_type": "code",
   "execution_count": 10,
   "metadata": {},
   "outputs": [],
   "source": [
    "x_train = [[1, 2, 1, 1],\n",
    "           [2, 1, 3, 2],\n",
    "           [3, 1, 3, 4],\n",
    "           [4, 1, 5, 5],\n",
    "           [1, 7, 5, 5],\n",
    "           [1, 2, 5, 6],\n",
    "           [1, 6, 6, 6],\n",
    "           [1, 7, 7, 7]]\n",
    "y_train = [2, 2, 2, 1, 1, 1, 0, 0]\n",
    "x_train = torch.FloatTensor(x_train)\n",
    "y_train = torch.LongTensor(y_train)"
   ]
  },
  {
   "cell_type": "code",
   "execution_count": 11,
   "metadata": {},
   "outputs": [],
   "source": [
    "W = torch.zeros([4,3], requires_grad=True)\n",
    "b = torch.zeros(3, requires_grad=True)"
   ]
  },
  {
   "cell_type": "code",
   "execution_count": 12,
   "metadata": {},
   "outputs": [],
   "source": [
    "optimizer = optim.SGD([W,b], lr=0.1)"
   ]
  },
  {
   "cell_type": "code",
   "execution_count": 13,
   "metadata": {},
   "outputs": [
    {
     "name": "stdout",
     "output_type": "stream",
     "text": [
      "step: 0 loss: 1.0986123085021973\n",
      "step: 100 loss: 0.7041994333267212\n",
      "step: 200 loss: 0.6229996085166931\n",
      "step: 300 loss: 0.5657167434692383\n",
      "step: 400 loss: 0.5152913331985474\n",
      "step: 500 loss: 0.467661589384079\n",
      "step: 600 loss: 0.4212777018547058\n",
      "step: 700 loss: 0.37540170550346375\n",
      "step: 800 loss: 0.3297656178474426\n",
      "step: 900 loss: 0.28507253527641296\n"
     ]
    }
   ],
   "source": [
    "for step in range(1000):\n",
    "#     logit = F.softmax(x_train.matmul(W) + b, dim=1) \n",
    "#     cost = (y_one_hot * -torch.log(F.softmax(logit, dim=1))).sum(dim=1).mean()\n",
    "#     softmax로 구한 probabiltiy를 이용해 cross-entropy loss 계산\n",
    "    logit = torch.matmul(x_train,W)+b\n",
    "    loss = F.cross_entropy(logit, y_train)\n",
    "    \n",
    "    optimizer.zero_grad()\n",
    "    loss.backward()\n",
    "    optimizer.step()\n",
    "    \n",
    "    if step%100==0:\n",
    "        print('step:',step, 'loss:', loss.item())"
   ]
  },
  {
   "cell_type": "markdown",
   "metadata": {},
   "source": [
    "### Implementation with nn.Module"
   ]
  },
  {
   "cell_type": "code",
   "execution_count": 14,
   "metadata": {},
   "outputs": [],
   "source": [
    "class SoftmaxClassifier(nn.Module):\n",
    "    def __init__(self):\n",
    "        super().__init__()\n",
    "        self.linear = nn.Linear(4,3)\n",
    "    \n",
    "    def forward(self, x):\n",
    "        return self.linear(x)"
   ]
  },
  {
   "cell_type": "code",
   "execution_count": 15,
   "metadata": {},
   "outputs": [],
   "source": [
    "model = SoftmaxClassifier()"
   ]
  },
  {
   "cell_type": "code",
   "execution_count": 16,
   "metadata": {},
   "outputs": [],
   "source": [
    "optimizer = optim.SGD(model.parameters(), lr=0.1)"
   ]
  },
  {
   "cell_type": "code",
   "execution_count": 17,
   "metadata": {},
   "outputs": [
    {
     "name": "stdout",
     "output_type": "stream",
     "text": [
      "step: 0 loss: 2.206914186477661\n",
      "step: 100 loss: 0.7373358607292175\n",
      "step: 200 loss: 0.6502688527107239\n",
      "step: 300 loss: 0.5924007296562195\n",
      "step: 400 loss: 0.5422427654266357\n",
      "step: 500 loss: 0.4951184093952179\n",
      "step: 600 loss: 0.44932663440704346\n",
      "step: 700 loss: 0.4040595293045044\n",
      "step: 800 loss: 0.35889995098114014\n",
      "step: 900 loss: 0.313834547996521\n"
     ]
    }
   ],
   "source": [
    "for step in range(1000):\n",
    "    pred = model(x_train)\n",
    "    loss = F.cross_entropy(pred, y_train)\n",
    "    \n",
    "    optimizer.zero_grad()\n",
    "    loss.backward()\n",
    "    optimizer.step()\n",
    "    \n",
    "    if step%100==0:\n",
    "        print('step:',step, 'loss:', loss.item())"
   ]
  },
  {
   "cell_type": "code",
   "execution_count": null,
   "metadata": {},
   "outputs": [],
   "source": []
  }
 ],
 "metadata": {
  "kernelspec": {
   "display_name": "Python [conda env:.conda-torch] *",
   "language": "python",
   "name": "conda-env-.conda-torch-py"
  },
  "language_info": {
   "codemirror_mode": {
    "name": "ipython",
    "version": 3
   },
   "file_extension": ".py",
   "mimetype": "text/x-python",
   "name": "python",
   "nbconvert_exporter": "python",
   "pygments_lexer": "ipython3",
   "version": "3.6.8"
  }
 },
 "nbformat": 4,
 "nbformat_minor": 2
}
