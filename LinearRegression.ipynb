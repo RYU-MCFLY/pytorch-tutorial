{
 "cells": [
  {
   "cell_type": "markdown",
   "metadata": {},
   "source": [
    "### Simple linear regression "
   ]
  },
  {
   "cell_type": "markdown",
   "metadata": {},
   "source": [
    "- feature X = [x1, x2, x3]\n",
    "- H = W*X + b"
   ]
  },
  {
   "cell_type": "code",
   "execution_count": 1,
   "metadata": {},
   "outputs": [],
   "source": [
    "import torch\n",
    "import torch.nn as nn\n",
    "import torch.nn.functional as F\n",
    "import torch.optim as optim\n",
    "import numpy as np"
   ]
  },
  {
   "cell_type": "code",
   "execution_count": 2,
   "metadata": {},
   "outputs": [],
   "source": [
    "x_train = torch.FloatTensor([[73, 80, 75],\n",
    "                             [93, 88, 93],\n",
    "                             [89, 91, 90],\n",
    "                             [96, 98, 100],\n",
    "                             [73, 66, 70]])\n",
    "y_train = torch.FloatTensor([[152], [185], [180], [196], [142]])"
   ]
  },
  {
   "cell_type": "code",
   "execution_count": 3,
   "metadata": {},
   "outputs": [],
   "source": [
    "W = torch.zeros([3,1], requires_grad=True)\n",
    "b = torch.zeros(1, requires_grad=True)"
   ]
  },
  {
   "cell_type": "code",
   "execution_count": 4,
   "metadata": {},
   "outputs": [],
   "source": [
    "optimizer = optim.SGD([W,b], lr=0.00001)"
   ]
  },
  {
   "cell_type": "code",
   "execution_count": 5,
   "metadata": {},
   "outputs": [
    {
     "name": "stdout",
     "output_type": "stream",
     "text": [
      "step: 0 cost: 29661.80078125\n",
      "step: 5 cost: 91.3710708618164\n",
      "step: 10 cost: 1.8976876735687256\n",
      "step: 15 cost: 1.6234203577041626\n",
      "step: 20 cost: 1.6190458536148071\n",
      "step: 25 cost: 1.615512490272522\n",
      "step: 30 cost: 1.611980676651001\n",
      "step: 35 cost: 1.6084823608398438\n",
      "step: 40 cost: 1.6049751043319702\n",
      "step: 45 cost: 1.6014728546142578\n"
     ]
    }
   ],
   "source": [
    "for step in range(50):\n",
    "    hypo = torch.matmul(x_train, W) + b \n",
    "    cost = torch.mean((hypo-y_train)**2)\n",
    "    \n",
    "    optimizer.zero_grad()\n",
    "    cost.backward()\n",
    "    optimizer.step()\n",
    "    if step%5==0:\n",
    "        print('step:', step, 'cost:', cost.item())"
   ]
  },
  {
   "cell_type": "markdown",
   "metadata": {},
   "source": [
    "### Linear regression with nn.Module"
   ]
  },
  {
   "cell_type": "code",
   "execution_count": 8,
   "metadata": {},
   "outputs": [],
   "source": [
    "class LinearRegression(nn.Module):\n",
    "    def __init__(self):\n",
    "        super().__init__()\n",
    "        self.linear = nn.Linear(3,1,bias=True)\n",
    "    \n",
    "    def forward(self, x):\n",
    "        return self.linear(x)"
   ]
  },
  {
   "cell_type": "code",
   "execution_count": 9,
   "metadata": {},
   "outputs": [],
   "source": [
    "model = LinearRegression()"
   ]
  },
  {
   "cell_type": "code",
   "execution_count": 11,
   "metadata": {},
   "outputs": [
    {
     "name": "stdout",
     "output_type": "stream",
     "text": [
      "Parameter containing:\n",
      "tensor([[0.0761, 0.0476, 0.5742]], requires_grad=True)\n",
      "Parameter containing:\n",
      "tensor([0.3261], requires_grad=True)\n"
     ]
    }
   ],
   "source": [
    "for item in model.parameters():\n",
    "    print(item)"
   ]
  },
  {
   "cell_type": "code",
   "execution_count": 12,
   "metadata": {},
   "outputs": [],
   "source": [
    "optimizer = optim.SGD(model.parameters(), lr=0.00001)"
   ]
  },
  {
   "cell_type": "code",
   "execution_count": 13,
   "metadata": {},
   "outputs": [
    {
     "name": "stdout",
     "output_type": "stream",
     "text": [
      "step: 0 cost: 12494.796875\n",
      "step: 5 cost: 39.20988464355469\n",
      "step: 10 cost: 1.521688461303711\n",
      "step: 15 cost: 1.4058728218078613\n",
      "step: 20 cost: 1.4037630558013916\n",
      "step: 25 cost: 1.402022123336792\n",
      "step: 30 cost: 1.4002652168273926\n",
      "step: 35 cost: 1.398525595664978\n",
      "step: 40 cost: 1.3967719078063965\n",
      "step: 45 cost: 1.3950347900390625\n"
     ]
    }
   ],
   "source": [
    "for step in range(50):\n",
    "    pred = model(x_train)\n",
    "    cost = F.mse_loss(pred, y_train)\n",
    "    \n",
    "    optimizer.zero_grad()\n",
    "    cost.backward()\n",
    "    optimizer.step()\n",
    "    if step%5==0:\n",
    "        print('step:', step, 'cost:', cost.item())"
   ]
  },
  {
   "cell_type": "code",
   "execution_count": null,
   "metadata": {},
   "outputs": [],
   "source": []
  }
 ],
 "metadata": {
  "kernelspec": {
   "display_name": "Python [conda env:.conda-torch] *",
   "language": "python",
   "name": "conda-env-.conda-torch-py"
  },
  "language_info": {
   "codemirror_mode": {
    "name": "ipython",
    "version": 3
   },
   "file_extension": ".py",
   "mimetype": "text/x-python",
   "name": "python",
   "nbconvert_exporter": "python",
   "pygments_lexer": "ipython3",
   "version": "3.6.8"
  }
 },
 "nbformat": 4,
 "nbformat_minor": 2
}
